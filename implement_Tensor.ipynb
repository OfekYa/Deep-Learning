{
  "nbformat": 4,
  "nbformat_minor": 0,
  "metadata": {
    "colab": {
      "provenance": [],
      "authorship_tag": "ABX9TyN+8B4Df38BMVew16wrUHGS",
      "include_colab_link": true
    },
    "kernelspec": {
      "name": "python3",
      "display_name": "Python 3"
    },
    "language_info": {
      "name": "python"
    }
  },
  "cells": [
    {
      "cell_type": "markdown",
      "metadata": {
        "id": "view-in-github",
        "colab_type": "text"
      },
      "source": [
        "<a href=\"https://colab.research.google.com/github/OfekYa/Deep-Learning/blob/main/implement_Tensor.ipynb\" target=\"_parent\"><img src=\"https://colab.research.google.com/assets/colab-badge.svg\" alt=\"Open In Colab\"/></a>"
      ]
    },
    {
      "cell_type": "markdown",
      "source": [
        "# Q1: An implementation of a Tensor constructor that samples random numbers from a discrete distribution that is received in the input.\n",
        "# Q2: An implementation of an automatic derivation system. The system will follow mathematical operations performed on the variables and calculate together with each operation its immediate derivative"
      ],
      "metadata": {
        "id": "Oe0slIjEJSVR"
      }
    },
    {
      "cell_type": "markdown",
      "source": [
        "## **Q1:  my_sampler**"
      ],
      "metadata": {
        "id": "QTsQyxLmquLL"
      }
    },
    {
      "cell_type": "code",
      "source": [
        "import matplotlib.pyplot as plt\n",
        "import torch\n",
        "\n",
        "\n",
        "\"\"\"Checking that the sum of the probabilities is 1 and that every element in the vector is positive\"\"\"\n",
        "def is_distribution_valid(dist):\n",
        "    if (torch.all(dist > 0) and dist.sum() == 1.0):\n",
        "        return True\n",
        "    return False\n",
        "\n",
        "\n",
        "def my_sampler(size, dist, requires_grad=False):\n",
        "\n",
        "    dist = torch.tensor(dist)  # Convert the list \"dist\" to be tensor type.\n",
        "    if is_distribution_valid(dist) == False:  # check validity of the distribution\n",
        "        raise Exception('The given distribution is not valid.')\n",
        "\n",
        "    dist = dist.cumsum(dim=0)  # Now each element in tensor \"dist\" holds the sum of the probabilities up to that element.\n",
        "    sum_P_n = dist[-2]  # The sum of the probabilities up to the value: n-1.\n",
        "    prev_sum_P_i = 0  # The sum of the probabilities up to the previous value: i-1.\n",
        "\n",
        "    probabilities_tensor = torch.rand(size)  # Each element in the probabilities_tensor is a U that holds a value between 0 and 1.\n",
        "\n",
        "    \"\"\" Initialize all I's to 0:  -->  I = 0.\n",
        "        If a certain condition is met on U:  --> condition(U) == TRUE.\n",
        "            then a placement is made on I:  -->  I = (I + k) or (I + n)   \"\"\"\n",
        "    result_tensor = torch.zeros(size)  # if (U < P(0)) then (I = 0).  a tensor of zeros will solve this requirement.\n",
        "\n",
        "    \"\"\" Step 2 in the algorithm:\n",
        "        if the value of the random variable is greater than or equal to the sum of the first n-1 probabilities:\n",
        "            then we will return I = n \"\"\"\n",
        "    mask_by_condition_2 = (probabilities_tensor >= sum_P_n)  # if (U >= sum_P(n-1)) then (I is TRUE).\n",
        "    n = mask_by_condition_2 * (len(dist) - 1)  # if (I is TRUE) then (I = n), else (I keeps the value 0).\n",
        "    result_tensor = result_tensor + n  # Update the output tensor according to the elements that will be defined n.\n",
        "\n",
        "    \"\"\" Steps 3 and 4 in the algorithm:\n",
        "        if the value of the random variable is greater than or equal to the sum of the \n",
        "           first k-1 probabilities and smaller than the sum of the first k probabilities:\n",
        "            then we will return I = k \"\"\"\n",
        "    for i in range(len(dist)-1):\n",
        "\n",
        "        curr_sum_P_i = dist[i]  # The sum of the probabilities up to the current value: i.\n",
        "\n",
        "        mask3_1 = (probabilities_tensor >= prev_sum_P_i)  # if (U >= sum_P(i-1)) then (I is TRUE).\n",
        "        mask3_2 = (probabilities_tensor < curr_sum_P_i)  # if (U < sum_P(i)) then (I is TRUE).\n",
        "        mask_by_condition_3 = mask3_1 & mask3_2   # if (sum_P(i) > U >= sum_P(i-1)) then (I is TRUE).\n",
        "        k = mask_by_condition_3 * i  # if (I is TRUE) then (I = k), else (I remains 0 or n).\n",
        "        result_tensor = result_tensor + k  # Update the output tensor according to the elements that will be defined k.\n",
        "\n",
        "        prev_sum_P_i = dist[i]  # Update the sum of the probabilities up to the previous value: i-1.\n",
        "\n",
        "    result_tensor.requires_grad_(requires_grad)\n",
        "    return result_tensor\n"
      ],
      "metadata": {
        "id": "UnEr2kiKqtio"
      },
      "execution_count": null,
      "outputs": []
    },
    {
      "cell_type": "markdown",
      "source": [
        "# **Test Q1:**"
      ],
      "metadata": {
        "id": "z-oatroprHwb"
      }
    },
    {
      "cell_type": "code",
      "source": [
        "print(\"TEST 1\")\n",
        "A = my_sampler(10,[0.5,0.5])\n",
        "print(A)\n",
        "\n",
        "print(\"TEST 2\")\n",
        "B = my_sampler((2,10), [0.1,0.2,0.7], requires_grad = True)\n",
        "print(B,B.grad,sep='\\n')\n",
        "\n",
        "\n",
        "x = my_sampler(10000, [0.1,0.2,0.7])\n",
        "plt.hist(x)\n",
        "plt.show()\n",
        "\n"
      ],
      "metadata": {
        "colab": {
          "base_uri": "https://localhost:8080/",
          "height": 539
        },
        "id": "ZIzT1xUHrQh9",
        "outputId": "4047bef4-1113-4f6c-9fc2-576a292acfce"
      },
      "execution_count": null,
      "outputs": [
        {
          "output_type": "stream",
          "name": "stdout",
          "text": [
            "TEST 1\n",
            "tensor([0., 0., 0., 1., 1., 1., 1., 0., 1., 0.])\n",
            "TEST 2\n",
            "tensor([[2., 2., 2., 2., 0., 2., 1., 2., 2., 2.],\n",
            "        [2., 0., 2., 2., 2., 2., 2., 2., 1., 2.]], requires_grad=True)\n",
            "None\n"
          ]
        },
        {
          "output_type": "display_data",
          "data": {
            "text/plain": [
              "<Figure size 640x480 with 1 Axes>"
            ],
            "image/png": "[encoded data removed]"
          },
          "metadata": {}
        }
      ]
    },
    {
      "cell_type": "markdown",
      "source": [
        "## **Q2: MyScalar**\n"
      ],
      "metadata": {
        "id": "x0CiQZ-6qUoC"
      }
    },
    {
      "cell_type": "code",
      "execution_count": null,
      "metadata": {
        "id": "YkW3OqQoR6S_"
      },
      "outputs": [],
      "source": [
        "import torch\n",
        "\n",
        "class MyScalar:\n",
        "\n",
        "    def __init__(self, scalar_value, gradient_value = 1, parent = None):\n",
        "        self.value = scalar_value\n",
        "        self.gradient = gradient_value\n",
        "        self.parent = parent\n",
        "        self.parent_gradient = 1  # cumulative gradient value.\n",
        "\n",
        "    def __repr__(self):\n",
        "        return f\"\\nMyScalar (scalar value: {float(self.value)} ,gradient value:{float(self.gradient)} ,parent: {self.parent})\"\n",
        "\n",
        "\n",
        "    def __add__(self, other):\n",
        "        value = torch.tensor(self.value + other)\n",
        "        gradient = 1\n",
        "        return MyScalar(value, gradient, self)\n",
        "\n",
        "    def __mul__(self, other):\n",
        "        value = torch.tensor(other * self.value)\n",
        "        grad = other\n",
        "        return MyScalar(value, grad, self)\n",
        "\n",
        "    def __pow__(self, power):\n",
        "        value = torch.tensor(self.value ** power)\n",
        "        grad = power * (self.value ** (power - 1))\n",
        "        return MyScalar(value, grad, self)\n",
        "\n",
        "    def cosine(self):\n",
        "        value = torch.cos(self.value)\n",
        "        grad = -(torch.sin(self.value))\n",
        "        return MyScalar(value, grad, self)\n",
        "\n",
        "    def sine(self):\n",
        "        value = torch.sin(self.value)\n",
        "        grad = torch.cos(self.value)\n",
        "        return MyScalar(value, grad, self)\n",
        "\n",
        "    def ln(self):\n",
        "        value = torch.log(self.value)  # Returns a new tensor with the natural logarithm of the elements of input.\n",
        "        grad = 1 / self.value\n",
        "        return MyScalar(value, grad, self)\n",
        "\n",
        "    def exp(self):\n",
        "        value = torch.exp(torch.tensor(self.value))\n",
        "        grad = value\n",
        "        return MyScalar(value, grad, self)\n",
        "\n",
        "\n",
        "    def get_gradient(self):\n",
        "\n",
        "        if self.parent is not None:\n",
        "            gradient_dic[self] = self.parent_gradient\n",
        "            self.parent.parent_gradient = self.gradient * self.parent_gradient\n",
        "            MyScalar.get_gradient(self.parent)\n",
        "        else: # אם self.parents = None אז הגענו לשורש הרקורסיה, כלומר לאיבר הראשון שבוצעה עליו פעולה\n",
        "            gradient_dic[self] = self.gradient * self.parent_gradient\n",
        "\n",
        "        return gradient_dic\n",
        "\n",
        "\n",
        "gradient_dic = {}\n",
        "\n"
      ]
    },
    {
      "cell_type": "markdown",
      "source": [
        "# **TEST Math Functions:**"
      ],
      "metadata": {
        "id": "eManwCLeS9dE"
      }
    },
    {
      "cell_type": "code",
      "source": [
        "x = MyScalar(4)\n",
        "torch_x = torch.tensor([4.])\n",
        "print(\"x: \", x)\n",
        "print(\"torch_x: \", torch_x)\n",
        "\n",
        "a = MyScalar.__add__(x, 3)\n",
        "torch_a = torch.add(torch_x, 3)\n",
        "print(\"\\na: \", a.value)\n",
        "print(\"torch_a: \", torch_a)\n",
        "\n",
        "b = MyScalar.__mul__(x, 3)\n",
        "torch_b = torch.mul(torch_x, 3)\n",
        "print(\"\\nb: \", b.value)\n",
        "print(\"torch_b: \", torch_b)\n",
        "\n",
        "c = MyScalar.__pow__(x, 2)\n",
        "torch_c = torch.pow(torch_x, 2)\n",
        "print(\"\\nc: \", c.value)\n",
        "print(\"torch_c: \", torch_c)\n",
        "\n",
        "d = MyScalar.exp(x)\n",
        "torch_d = torch.exp(torch_x)\n",
        "print(\"\\nd: \", d.value)\n",
        "print(\"torch_d: \", torch_d)\n",
        "\n",
        "e = MyScalar.ln(d)\n",
        "torch_e = torch.log(torch_d)\n",
        "print(\"\\ne: \", e.value)\n",
        "print(\"torch_e: \", torch_e)\n",
        "\n",
        "f = MyScalar.cosine(e)\n",
        "torch_f = torch.cos(torch_e)\n",
        "print(\"\\nf: \", f.value)\n",
        "print(\"torch_f: \", torch_f)\n",
        "\n",
        "g = MyScalar.sine(f)\n",
        "torch_g = torch.sin(torch_f)\n",
        "print(\"\\ng: \", g.value)\n",
        "print(\"torch_g: \", torch_g)\n"
      ],
      "metadata": {
        "colab": {
          "base_uri": "https://localhost:8080/"
        },
        "id": "m3jOL1x7S47C",
        "outputId": "cdb11ab8-a92c-4c81-fffc-773d63f0060f"
      },
      "execution_count": null,
      "outputs": [
        {
          "output_type": "stream",
          "name": "stdout",
          "text": [
            "x:  \n",
            "MyScalar (scalar value: 4.0 ,gradient value:1.0 ,parent: None)\n",
            "torch_x:  tensor([4.])\n",
            "\n",
            "a:  tensor(7)\n",
            "torch_a:  tensor([7.])\n",
            "\n",
            "b:  tensor(12)\n",
            "torch_b:  tensor([12.])\n",
            "\n",
            "c:  tensor(16)\n",
            "torch_c:  tensor([16.])\n",
            "\n",
            "d:  tensor(54.5981)\n",
            "torch_d:  tensor([54.5981])\n",
            "\n",
            "e:  tensor(4.)\n",
            "torch_e:  tensor([4.])\n",
            "\n",
            "f:  tensor(-0.6536)\n",
            "torch_f:  tensor([-0.6536])\n",
            "\n",
            "g:  tensor(-0.6081)\n",
            "torch_g:  tensor([-0.6081])\n"
          ]
        }
      ]
    },
    {
      "cell_type": "markdown",
      "source": [
        "# **TEST get_gradient:**"
      ],
      "metadata": {
        "id": "d_XKZ_SWTN4M"
      }
    },
    {
      "cell_type": "code",
      "source": [
        "a = MyScalar(2)\n",
        "b = MyScalar.__pow__(a, 2)\n",
        "c = MyScalar.exp(b)\n",
        "#d = MyScalar.cosine(c)\n",
        "#e = MyScalar.ln(d)\n",
        "f = MyScalar.get_gradient(c)\n",
        "print(\"f: \", f)\n",
        "\n",
        "\n",
        "torch_a = torch.tensor([2.], requires_grad=True)\n",
        "torch_b = torch.pow(torch_a, 2)\n",
        "torch_c = torch.exp(torch_b)\n",
        "#torch_d = torch.cos(torch_c)\n",
        "#torch_e = torch.log(torch_d)\n",
        "\n",
        "torch_c.backward()\n",
        "print(\"torch_a: \", torch_a.grad)"
      ],
      "metadata": {
        "colab": {
          "base_uri": "https://localhost:8080/"
        },
        "id": "CJBw2GshSvV0",
        "outputId": "9aa3a7a9-eb19-4a27-a188-280a6c138325"
      },
      "execution_count": null,
      "outputs": [
        {
          "output_type": "stream",
          "name": "stdout",
          "text": [
            "f:  {\n",
            "MyScalar (scalar value: 54.598148345947266 ,gradient value:54.598148345947266 ,parent: \n",
            "MyScalar (scalar value: 4.0 ,gradient value:4.0 ,parent: \n",
            "MyScalar (scalar value: 2.0 ,gradient value:1.0 ,parent: None))): 1, \n",
            "MyScalar (scalar value: 4.0 ,gradient value:4.0 ,parent: \n",
            "MyScalar (scalar value: 2.0 ,gradient value:1.0 ,parent: None)): tensor(54.5981), \n",
            "MyScalar (scalar value: 2.0 ,gradient value:1.0 ,parent: None): tensor(218.3926)}\n",
            "torch_a:  tensor([218.3926])\n"
          ]
        },
        {
          "output_type": "stream",
          "name": "stderr",
          "text": [
            "<ipython-input-3-4b7a813d6a4f>:46: UserWarning: To copy construct from a tensor, it is recommended to use sourceTensor.clone().detach() or sourceTensor.clone().detach().requires_grad_(True), rather than torch.tensor(sourceTensor).\n",
            "  value = torch.exp(torch.tensor(self.value))\n"
          ]
        }
      ]
    }
  ]
}